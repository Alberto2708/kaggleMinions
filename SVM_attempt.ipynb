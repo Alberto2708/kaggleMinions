{
 "cells": [
  {
   "cell_type": "markdown",
   "id": "9cf33c33",
   "metadata": {},
   "source": [
    "# Primer intento con SVM"
   ]
  },
  {
   "cell_type": "code",
   "execution_count": 1,
   "id": "0674c767",
   "metadata": {},
   "outputs": [],
   "source": [
    "import numpy as np\n",
    "import pandas as pd\n",
    "from sklearn.datasets import make_classification\n",
    "from sklearn.model_selection import train_test_split\n",
    "from sklearn.svm import SVC\n",
    "from sklearn.metrics import classification_report, roc_auc_score\n"
   ]
  },
  {
   "cell_type": "code",
   "execution_count": 2,
   "id": "08df0075",
   "metadata": {},
   "outputs": [],
   "source": [
    "\n",
    "base = pd.read_csv(\"Datasets/Base.csv\")\n",
    "variantI = pd.read_csv(\"Datasets/Variant I.csv\")\n",
    "variantII = pd.read_csv(\"Datasets/Variant II.csv\")\n",
    "variantIII = pd.read_csv(\"Datasets/Variant III.csv\")\n",
    "variantIV = pd.read_csv(\"Datasets/Variant IV.csv\")\n",
    "variantV = pd.read_csv(\"Datasets/Variant V.csv\")\n"
   ]
  },
  {
   "cell_type": "code",
   "execution_count": 5,
   "id": "425ac571",
   "metadata": {},
   "outputs": [],
   "source": [
    "dataset = base\n",
    "dataset = dataset[dataset['month']>=6]\n",
    "\n",
    "X = dataset.drop('fraud_bool', axis=1)\n",
    "X = X[['income', 'credit_risk_score', 'has_other_cards']].values.reshape(-1, 3)\n",
    "y = dataset['fraud_bool']\n",
    "\n",
    "X_train, X_test, y_train, y_test = train_test_split(\n",
    "    X, y, test_size=0.3, stratify=y, random_state=42\n",
    ")\n"
   ]
  },
  {
   "cell_type": "code",
   "execution_count": null,
   "id": "5bf84dad",
   "metadata": {},
   "outputs": [
    {
     "name": "stdout",
     "output_type": "stream",
     "text": [
      "Model defined. Training...\n"
     ]
    }
   ],
   "source": [
    "\n",
    "svm_model = SVC(\n",
    "    kernel='rbf', C=1.0, gamma='scale', probability=True, random_state=42, class_weight='balanced'\n",
    ")\n",
    "\n",
    "print(\"Model defined. Training...\")\n",
    "svm_model.fit(X_train, y_train)\n",
    "print(\"Model trained. Predicting...\")\n",
    "\n",
    "y_pred = svm_model.predict(X_test)\n",
    "y_prob = svm_model.predict_proba(X_test)[:, 1]\n",
    "print(\"Prediction done. Evaluating...\")\n",
    "\n",
    "# 6. Evaluation\n",
    "print(\"Classification Report:\\n\", classification_report(y_test, y_pred))\n",
    "print(\"ROC-AUC Score:\", roc_auc_score(y_test, y_prob))\n",
    "print(\"Evaluation done.\")"
   ]
  }
 ],
 "metadata": {
  "kernelspec": {
   "display_name": ".venv",
   "language": "python",
   "name": "python3"
  },
  "language_info": {
   "codemirror_mode": {
    "name": "ipython",
    "version": 3
   },
   "file_extension": ".py",
   "mimetype": "text/x-python",
   "name": "python",
   "nbconvert_exporter": "python",
   "pygments_lexer": "ipython3",
   "version": "3.13.0"
  }
 },
 "nbformat": 4,
 "nbformat_minor": 5
}
